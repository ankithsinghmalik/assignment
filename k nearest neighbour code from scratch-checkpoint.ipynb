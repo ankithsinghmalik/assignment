{
 "cells": [
  {
   "cell_type": "code",
   "execution_count": 23,
   "metadata": {},
   "outputs": [],
   "source": [
    "import numpy as np"
   ]
  },
  {
   "cell_type": "code",
   "execution_count": 38,
   "metadata": {},
   "outputs": [],
   "source": [
    "class0 =[[1,2],[3,4],[5,6]]\n",
    "class1 =[[70,80],[60,70],[80,90]]                        #our training data\n",
    "pred =[65,70]                       #the data which we want to test\n",
    "\n",
    "def distance(x,y):\n",
    "    (x1,y1)=x\n",
    "    (x2,y2)=y\n",
    "    dist=(((x1-x2)**2)+((y1-y2)**2))   \n",
    "    ed=np.sqrt(dist)\n",
    "    \n",
    "    return ed"
   ]
  },
  {
   "cell_type": "code",
   "execution_count": 39,
   "metadata": {},
   "outputs": [
    {
     "name": "stdout",
     "output_type": "stream",
     "text": [
      "the distance of prediction and class0 is [[], [[1, 2], 93.38094023943002]]\n",
      "the distance of prediction and class0 is [[], [[1, 2], 93.38094023943002], [[3, 4], 90.55385138137417]]\n",
      "the distance of prediction and class0 is [[], [[1, 2], 93.38094023943002], [[3, 4], 90.55385138137417], [[5, 6], 87.72684879784524]]\n"
     ]
    }
   ],
   "source": [
    "val=[]\n",
    "list0=[[]]\n",
    "\n",
    "for i in class0:\n",
    "    \n",
    "    value = distance(pred,i)\n",
    "    val.append(value)\n",
    "    list0.append([i, value])\n",
    "    \n",
    "    print('the distance of prediction and class0 is',list0)"
   ]
  },
  {
   "cell_type": "code",
   "execution_count": 40,
   "metadata": {},
   "outputs": [
    {
     "name": "stdout",
     "output_type": "stream",
     "text": [
      "the distance of prediction and class0 is [[], [[70, 80], 11.180339887498949]]\n",
      "the distance of prediction and class0 is [[], [[70, 80], 11.180339887498949], [[60, 70], 5.0]]\n",
      "the distance of prediction and class0 is [[], [[70, 80], 11.180339887498949], [[60, 70], 5.0], [[80, 90], 25.0]]\n"
     ]
    }
   ],
   "source": [
    "val1=[]\n",
    "list1=[[]]\n",
    "\n",
    "for i in class1:\n",
    "    \n",
    "    value = distance(pred,i)      \n",
    "    val1.append(value)\n",
    "    list1.append([i,value])\n",
    "    \n",
    "    print('the distance of prediction and class0 is',list1)\n",
    "    "
   ]
  },
  {
   "cell_type": "code",
   "execution_count": 41,
   "metadata": {},
   "outputs": [
    {
     "data": {
      "text/plain": [
       "[93.38094023943002, 90.55385138137417, 87.72684879784524]"
      ]
     },
     "execution_count": 41,
     "metadata": {},
     "output_type": "execute_result"
    }
   ],
   "source": [
    "val"
   ]
  },
  {
   "cell_type": "code",
   "execution_count": 42,
   "metadata": {},
   "outputs": [
    {
     "data": {
      "text/plain": [
       "[11.180339887498949, 5.0, 25.0]"
      ]
     },
     "execution_count": 42,
     "metadata": {},
     "output_type": "execute_result"
    }
   ],
   "source": [
    "val1"
   ]
  },
  {
   "cell_type": "code",
   "execution_count": 43,
   "metadata": {},
   "outputs": [],
   "source": [
    "dist=val+val1"
   ]
  },
  {
   "cell_type": "code",
   "execution_count": 44,
   "metadata": {},
   "outputs": [
    {
     "data": {
      "text/plain": [
       "[93.38094023943002,\n",
       " 90.55385138137417,\n",
       " 87.72684879784524,\n",
       " 11.180339887498949,\n",
       " 5.0,\n",
       " 25.0]"
      ]
     },
     "execution_count": 44,
     "metadata": {},
     "output_type": "execute_result"
    }
   ],
   "source": [
    "dist"
   ]
  },
  {
   "cell_type": "code",
   "execution_count": 45,
   "metadata": {},
   "outputs": [],
   "source": [
    "sorted_distances=np.sort(dist)"
   ]
  },
  {
   "cell_type": "code",
   "execution_count": 46,
   "metadata": {},
   "outputs": [
    {
     "data": {
      "text/plain": [
       "array([ 5.        , 11.18033989, 25.        , 87.7268488 , 90.55385138,\n",
       "       93.38094024])"
      ]
     },
     "execution_count": 46,
     "metadata": {},
     "output_type": "execute_result"
    }
   ],
   "source": [
    "sorted_distances"
   ]
  },
  {
   "cell_type": "code",
   "execution_count": 48,
   "metadata": {},
   "outputs": [
    {
     "name": "stdout",
     "output_type": "stream",
     "text": [
      "\"enter the k value in between range of 0 to 9\n",
      "3\n"
     ]
    }
   ],
   "source": [
    "k=int(input('\"enter the k value in between range of 0 to 9\\n'))"
   ]
  },
  {
   "cell_type": "code",
   "execution_count": 49,
   "metadata": {},
   "outputs": [
    {
     "name": "stdout",
     "output_type": "stream",
     "text": [
      "the k nearest neighbour are [5.0]\n",
      "the k nearest neighbour are [5.0, 11.180339887498949]\n",
      "the k nearest neighbour are [5.0, 11.180339887498949, 25.0]\n"
     ]
    }
   ],
   "source": [
    "i=0\n",
    "\n",
    "nearest=[]\n",
    "while(i<k):\n",
    "    \n",
    "    nearest.append(sorted_distances[i])\n",
    "    i=i+1\n",
    "    print('the k nearest neighbour are',nearest)\n"
   ]
  },
  {
   "cell_type": "code",
   "execution_count": 50,
   "metadata": {},
   "outputs": [
    {
     "name": "stdout",
     "output_type": "stream",
     "text": [
      "[[1, 2], [3, 4], [5, 6]]\n",
      "[[70, 80], [60, 70], [80, 90], [65, 70]]\n"
     ]
    }
   ],
   "source": [
    "if len([i for i in nearest if i in val])>=2 :\n",
    "    class0.append(pred)\n",
    "else:\n",
    "    class1.append(pred)\n",
    "    \n",
    "print(class0)\n",
    "print(class1)"
   ]
  },
  {
   "cell_type": "code",
   "execution_count": null,
   "metadata": {},
   "outputs": [],
   "source": []
  },
  {
   "cell_type": "code",
   "execution_count": null,
   "metadata": {},
   "outputs": [],
   "source": []
  }
 ],
 "metadata": {
  "kernelspec": {
   "display_name": "Python 3",
   "language": "python",
   "name": "python3"
  },
  "language_info": {
   "codemirror_mode": {
    "name": "ipython",
    "version": 3
   },
   "file_extension": ".py",
   "mimetype": "text/x-python",
   "name": "python",
   "nbconvert_exporter": "python",
   "pygments_lexer": "ipython3",
   "version": "3.7.4"
  }
 },
 "nbformat": 4,
 "nbformat_minor": 2
}
