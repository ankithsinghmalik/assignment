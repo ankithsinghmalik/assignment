{
 "cells": [
  {
   "cell_type": "code",
   "execution_count": 3,
   "metadata": {},
   "outputs": [],
   "source": [
    "import pandas as pd\n",
    "import numpy as np\n",
    "from sklearn.neighbors import KNeighborsClassifier\n",
    "from sklearn.metrics import roc_curve\n",
    "import matplotlib.pyplot as plt\n",
    "from sklearn.model_selection import train_test_split\n",
    "from sklearn.metrics import precision_score, recall_score, f1_score,confusion_matrix"
   ]
  },
  {
   "cell_type": "code",
   "execution_count": 4,
   "metadata": {},
   "outputs": [],
   "source": [
    "data = pd.read_csv('C:/Users/sys/Downloads/Two_points_KNN.csv')"
   ]
  },
  {
   "cell_type": "code",
   "execution_count": 5,
   "metadata": {},
   "outputs": [
    {
     "data": {
      "text/html": [
       "<div>\n",
       "<style scoped>\n",
       "    .dataframe tbody tr th:only-of-type {\n",
       "        vertical-align: middle;\n",
       "    }\n",
       "\n",
       "    .dataframe tbody tr th {\n",
       "        vertical-align: top;\n",
       "    }\n",
       "\n",
       "    .dataframe thead th {\n",
       "        text-align: right;\n",
       "    }\n",
       "</style>\n",
       "<table border=\"1\" class=\"dataframe\">\n",
       "  <thead>\n",
       "    <tr style=\"text-align: right;\">\n",
       "      <th></th>\n",
       "      <th>-2.543456253616113</th>\n",
       "      <th>-10.81635752298698</th>\n",
       "      <th>0</th>\n",
       "    </tr>\n",
       "  </thead>\n",
       "  <tbody>\n",
       "    <tr>\n",
       "      <td>0</td>\n",
       "      <td>9.434466</td>\n",
       "      <td>-2.572000</td>\n",
       "      <td>0</td>\n",
       "    </tr>\n",
       "    <tr>\n",
       "      <td>1</td>\n",
       "      <td>3.368646</td>\n",
       "      <td>-10.194671</td>\n",
       "      <td>0</td>\n",
       "    </tr>\n",
       "    <tr>\n",
       "      <td>2</td>\n",
       "      <td>1.341407</td>\n",
       "      <td>-4.204140</td>\n",
       "      <td>0</td>\n",
       "    </tr>\n",
       "    <tr>\n",
       "      <td>3</td>\n",
       "      <td>9.547758</td>\n",
       "      <td>-2.220580</td>\n",
       "      <td>0</td>\n",
       "    </tr>\n",
       "    <tr>\n",
       "      <td>4</td>\n",
       "      <td>-3.533291</td>\n",
       "      <td>6.424351</td>\n",
       "      <td>0</td>\n",
       "    </tr>\n",
       "  </tbody>\n",
       "</table>\n",
       "</div>"
      ],
      "text/plain": [
       "   -2.543456253616113  -10.81635752298698  0\n",
       "0            9.434466           -2.572000  0\n",
       "1            3.368646          -10.194671  0\n",
       "2            1.341407           -4.204140  0\n",
       "3            9.547758           -2.220580  0\n",
       "4           -3.533291            6.424351  0"
      ]
     },
     "execution_count": 5,
     "metadata": {},
     "output_type": "execute_result"
    }
   ],
   "source": [
    "data.head()"
   ]
  },
  {
   "cell_type": "code",
   "execution_count": 6,
   "metadata": {},
   "outputs": [
    {
     "name": "stdout",
     "output_type": "stream",
     "text": [
      "<class 'pandas.core.frame.DataFrame'>\n",
      "RangeIndex: 1999 entries, 0 to 1998\n",
      "Data columns (total 3 columns):\n",
      "-2.543456253616113    1999 non-null float64\n",
      "-10.81635752298698    1999 non-null float64\n",
      "0                     1999 non-null int64\n",
      "dtypes: float64(2), int64(1)\n",
      "memory usage: 47.0 KB\n"
     ]
    }
   ],
   "source": [
    "data.info()"
   ]
  },
  {
   "cell_type": "code",
   "execution_count": 8,
   "metadata": {},
   "outputs": [],
   "source": [
    "df=pd.DataFrame(data)"
   ]
  },
  {
   "cell_type": "code",
   "execution_count": 9,
   "metadata": {},
   "outputs": [
    {
     "data": {
      "text/plain": [
       "Index(['-2.543456253616113', '-10.81635752298698', '0'], dtype='object')"
      ]
     },
     "execution_count": 9,
     "metadata": {},
     "output_type": "execute_result"
    }
   ],
   "source": [
    "df.columns"
   ]
  },
  {
   "cell_type": "code",
   "execution_count": 24,
   "metadata": {},
   "outputs": [],
   "source": [
    "df=df.rename(columns={'-2.543456253616113':'class0','-10.81635752298698':'class2'})"
   ]
  },
  {
   "cell_type": "code",
   "execution_count": 44,
   "metadata": {},
   "outputs": [],
   "source": [
    "x=df['class0'].values.reshape(-1,1)\n",
    "y=y = np.asarray(df['class2'], dtype=\"|S6\")"
   ]
  },
  {
   "cell_type": "code",
   "execution_count": 26,
   "metadata": {},
   "outputs": [
    {
     "data": {
      "text/html": [
       "<div>\n",
       "<style scoped>\n",
       "    .dataframe tbody tr th:only-of-type {\n",
       "        vertical-align: middle;\n",
       "    }\n",
       "\n",
       "    .dataframe tbody tr th {\n",
       "        vertical-align: top;\n",
       "    }\n",
       "\n",
       "    .dataframe thead th {\n",
       "        text-align: right;\n",
       "    }\n",
       "</style>\n",
       "<table border=\"1\" class=\"dataframe\">\n",
       "  <thead>\n",
       "    <tr style=\"text-align: right;\">\n",
       "      <th></th>\n",
       "      <th>class0</th>\n",
       "      <th>class2</th>\n",
       "      <th>0</th>\n",
       "    </tr>\n",
       "  </thead>\n",
       "  <tbody>\n",
       "    <tr>\n",
       "      <td>0</td>\n",
       "      <td>9.434466</td>\n",
       "      <td>-2.572000</td>\n",
       "      <td>0</td>\n",
       "    </tr>\n",
       "    <tr>\n",
       "      <td>1</td>\n",
       "      <td>3.368646</td>\n",
       "      <td>-10.194671</td>\n",
       "      <td>0</td>\n",
       "    </tr>\n",
       "    <tr>\n",
       "      <td>2</td>\n",
       "      <td>1.341407</td>\n",
       "      <td>-4.204140</td>\n",
       "      <td>0</td>\n",
       "    </tr>\n",
       "    <tr>\n",
       "      <td>3</td>\n",
       "      <td>9.547758</td>\n",
       "      <td>-2.220580</td>\n",
       "      <td>0</td>\n",
       "    </tr>\n",
       "    <tr>\n",
       "      <td>4</td>\n",
       "      <td>-3.533291</td>\n",
       "      <td>6.424351</td>\n",
       "      <td>0</td>\n",
       "    </tr>\n",
       "  </tbody>\n",
       "</table>\n",
       "</div>"
      ],
      "text/plain": [
       "     class0     class2  0\n",
       "0  9.434466  -2.572000  0\n",
       "1  3.368646 -10.194671  0\n",
       "2  1.341407  -4.204140  0\n",
       "3  9.547758  -2.220580  0\n",
       "4 -3.533291   6.424351  0"
      ]
     },
     "execution_count": 26,
     "metadata": {},
     "output_type": "execute_result"
    }
   ],
   "source": [
    "df.head()"
   ]
  },
  {
   "cell_type": "code",
   "execution_count": 64,
   "metadata": {},
   "outputs": [],
   "source": [
    "x_train, x_test, y_train, y_test = train_test_split(x, y)"
   ]
  },
  {
   "cell_type": "code",
   "execution_count": 81,
   "metadata": {},
   "outputs": [],
   "source": [
    "kn = KNeighborsClassifier(n_neighbors=50)"
   ]
  },
  {
   "cell_type": "code",
   "execution_count": 82,
   "metadata": {},
   "outputs": [
    {
     "data": {
      "text/plain": [
       "KNeighborsClassifier(algorithm='auto', leaf_size=30, metric='minkowski',\n",
       "                     metric_params=None, n_jobs=None, n_neighbors=50, p=2,\n",
       "                     weights='uniform')"
      ]
     },
     "execution_count": 82,
     "metadata": {},
     "output_type": "execute_result"
    }
   ],
   "source": [
    "kn.fit(x_train,y_train)"
   ]
  },
  {
   "cell_type": "code",
   "execution_count": 83,
   "metadata": {},
   "outputs": [],
   "source": [
    "predictions = kn.predict(x_test)\n"
   ]
  },
  {
   "cell_type": "code",
   "execution_count": 84,
   "metadata": {},
   "outputs": [
    {
     "data": {
      "text/plain": [
       "array([b'-4.887', b'-2.639', b'-10.21', b'10.385', b'-5.217', b'-10.71',\n",
       "       b'-5.428', b'-10.26', b'-10.80', b'-3.239', b'-0.000', b'-10.99',\n",
       "       b'-10.84', b'-4.424', b'-10.97', b'-0.004', b'-10.97', b'-1.808',\n",
       "       b'-0.004', b'-0.013', b'-0.728', b'-10.84', b'-10.17', b'-10.26',\n",
       "       b'-10.67', b'10.385', b'-5.207', b'-0.000', b'-0.636', b'-4.595',\n",
       "       b'-0.036', b'-1.704', b'-10.18', b'10.385', b'-10.84', b'10.385',\n",
       "       b'-10.84', b'-7.680', b'-0.000', b'-10.51', b'-0.036', b'-2.474',\n",
       "       b'-0.004', b'-2.234', b'-0.009', b'-5.822', b'-1.808', b'-0.013',\n",
       "       b'-10.26', b'-10.97', b'-10.09', b'-10.80', b'-2.135', b'-0.013',\n",
       "       b'-5.678', b'-10.30', b'-1.265', b'-7.680', b'-10.99', b'-1.880',\n",
       "       b'-5.678', b'-10.71', b'-7.509', b'-10.51', b'-10.30', b'-0.036',\n",
       "       b'-5.107', b'-0.341', b'-10.18', b'-3.550', b'-7.680', b'-10.84',\n",
       "       b'-10.09', b'-3.742', b'-10.71', b'-2.818', b'-5.048', b'-10.84',\n",
       "       b'-0.000', b'-2.818', b'-0.341', b'-0.009', b'-10.89', b'-5.428',\n",
       "       b'-10.30', b'-5.736', b'-1.824', b'-0.036', b'-10.71', b'-10.59',\n",
       "       b'-0.257', b'-10.80', b'-0.013', b'-5.736', b'-10.18', b'-0.013',\n",
       "       b'-10.71', b'-10.67', b'-0.009', b'-5.678', b'-4.169', b'-1.689',\n",
       "       b'-0.423', b'-10.84', b'-10.26', b'-7.509', b'-10.27', b'-10.18',\n",
       "       b'-5.678', b'-10.51', b'10.385', b'-3.148', b'-10.09', b'-10.71',\n",
       "       b'-2.474', b'-10.71', b'-0.004', b'-10.86', b'-10.18', b'-4.932',\n",
       "       b'-7.680', b'-10.17', b'-0.013', b'-10.26', b'-6.016', b'-10.84',\n",
       "       b'-10.59', b'-7.509', b'-1.880', b'-7.680', b'-4.384', b'-10.18',\n",
       "       b'-10.97', b'-4.248', b'-0.004', b'-0.004', b'-10.35', b'-1.808',\n",
       "       b'-10.84', b'-7.680', b'-1.947', b'-3.270', b'-2.639', b'-10.59',\n",
       "       b'-10.84', b'-10.09', b'-0.013', b'-7.680', b'-0.013', b'-5.048',\n",
       "       b'-4.424', b'-1.824', b'-0.000', b'-10.97', b'-10.77', b'-3.270',\n",
       "       b'-1.916', b'-4.271', b'-0.238', b'-2.639', b'-0.798', b'-10.59',\n",
       "       b'-10.51', b'-10.59', b'-0.636', b'-4.384', b'-10.67', b'-0.000',\n",
       "       b'-10.09', b'-0.004', b'-10.29', b'-0.636', b'-0.636', b'10.385',\n",
       "       b'-10.86', b'-2.818', b'-10.30', b'10.385', b'-2.781', b'-10.09',\n",
       "       b'-0.004', b'-10.30', b'-0.611', b'-0.036', b'-3.273', b'-3.841',\n",
       "       b'-0.000', b'-0.636', b'10.385', b'-10.71', b'-9.943', b'-3.059',\n",
       "       b'-10.71', b'-5.822', b'-10.17', b'-10.84', b'-10.59', b'-0.004',\n",
       "       b'-10.71', b'-10.74', b'-2.854', b'-10.17', b'10.385', b'-0.004',\n",
       "       b'-1.756', b'-2.441', b'-1.880', b'-10.84', b'-10.89', b'-10.86',\n",
       "       b'-10.67', b'-5.822', b'-10.77', b'-10.74', b'-0.000', b'-10.00',\n",
       "       b'-0.004', b'-10.71', b'-0.636', b'-4.595', b'-0.036', b'-5.678',\n",
       "       b'-0.004', b'-5.428', b'-5.678', b'-0.915', b'-0.004', b'-4.248',\n",
       "       b'-10.59', b'-0.000', b'-10.84', b'-10.59', b'-0.013', b'-10.30',\n",
       "       b'-4.271', b'-0.004', b'-5.736', b'-7.509', b'-3.888', b'-0.000',\n",
       "       b'-3.918', b'-5.822', b'-4.169', b'-0.000', b'-0.000', b'-10.14',\n",
       "       b'-10.97', b'-7.680', b'-7.680', b'-0.004', b'-10.59', b'-4.932',\n",
       "       b'-0.013', b'-0.004', b'-5.577', b'-10.35', b'-0.004', b'-7.509',\n",
       "       b'-10.51', b'-0.423', b'-2.855', b'-5.577', b'-4.576', b'-10.84',\n",
       "       b'10.385', b'-3.888', b'-5.678', b'-10.84', b'-10.17', b'-0.004',\n",
       "       b'-2.949', b'-10.71', b'-1.880', b'-10.59', b'-0.013', b'-0.004',\n",
       "       b'-10.59', b'-10.59', b'-10.84', b'-3.148', b'-4.424', b'-0.004',\n",
       "       b'-0.636', b'-1.880', b'-10.27', b'-0.036', b'10.385', b'-5.678',\n",
       "       b'-10.84', b'-10.77', b'-7.509', b'-10.71', b'-0.013', b'-3.841',\n",
       "       b'-0.636', b'-7.680', b'-0.036', b'-1.265', b'-4.271', b'-1.735',\n",
       "       b'-3.841', b'-10.26', b'-7.680', b'10.385', b'-3.979', b'-10.59',\n",
       "       b'-0.009', b'-0.004', b'-10.71', b'-10.59', b'-10.97', b'-7.509',\n",
       "       b'-0.000', b'-10.84', b'-10.30', b'-1.704', b'-0.004', b'10.385',\n",
       "       b'-10.30', b'-5.678', b'-7.680', b'-10.17', b'-10.77', b'-10.84',\n",
       "       b'-0.000', b'-0.004', b'-0.004', b'-0.636', b'-4.595', b'-1.880',\n",
       "       b'-10.71', b'10.385', b'-10.80', b'-0.004', b'-0.611', b'-1.689',\n",
       "       b'-1.265', b'-3.841', b'-0.036', b'-10.59', b'-10.14', b'-10.71',\n",
       "       b'-2.855', b'-10.59', b'-0.013', b'-10.84', b'-10.14', b'-10.59',\n",
       "       b'-1.880', b'-4.424', b'10.385', b'-5.822', b'-4.169', b'-5.678',\n",
       "       b'-10.74', b'-3.270', b'-1.265', b'-10.71', b'-1.689', b'-10.35',\n",
       "       b'-10.77', b'-10.84', b'-10.97', b'-1.916', b'-10.74', b'-0.013',\n",
       "       b'-9.959', b'-10.71', b'-0.004', b'-2.818', b'-0.000', b'-0.636',\n",
       "       b'-0.013', b'-3.918', b'-2.135', b'-0.000', b'-0.004', b'-10.84',\n",
       "       b'-0.611', b'-10.30', b'-2.781', b'-10.18', b'-0.000', b'-5.822',\n",
       "       b'-10.71', b'-10.59', b'-5.428', b'-5.678', b'-5.822', b'-4.545',\n",
       "       b'-0.013', b'-0.636', b'10.385', b'-10.17', b'-10.18', b'-3.148',\n",
       "       b'-3.270', b'-10.59', b'-10.26', b'-4.595', b'-0.611', b'-3.475',\n",
       "       b'-10.99', b'-10.86', b'-0.036', b'-0.004', b'-0.036', b'-0.036',\n",
       "       b'-5.678', b'-10.84', b'-0.000', b'-2.949', b'-1.265', b'-4.490',\n",
       "       b'-10.99', b'-3.148', b'-5.678', b'-10.71', b'-0.004', b'-10.84',\n",
       "       b'-1.689', b'-1.880', b'-0.004', b'-10.84', b'-4.490', b'-5.678',\n",
       "       b'-10.86', b'-2.855', b'-10.17', b'-10.80', b'-7.680', b'-10.26',\n",
       "       b'-10.26', b'10.385', b'10.385', b'-0.036', b'-10.71', b'-3.273',\n",
       "       b'-1.735', b'-2.639', b'-0.000', b'-5.822', b'-2.267', b'-10.14',\n",
       "       b'-10.71', b'-2.474', b'-0.000', b'-1.880', b'-0.013', b'-3.059',\n",
       "       b'-10.71', b'-10.80', b'-0.013', b'-0.004', b'-7.680', b'-0.257',\n",
       "       b'-0.036', b'-1.735', b'-1.704', b'-0.798', b'-10.84', b'-0.000',\n",
       "       b'-0.004', b'-3.888', b'-5.678', b'-3.841', b'-5.678', b'-0.013',\n",
       "       b'-10.26', b'-3.979', b'-3.475', b'-10.84', b'-5.736', b'-4.424',\n",
       "       b'-5.678', b'-10.18', b'-0.036', b'-3.156', b'-10.59', b'-0.004',\n",
       "       b'-0.013', b'-0.000', b'-2.524', b'-3.742', b'-0.004', b'-10.17',\n",
       "       b'-0.013', b'-1.735', b'-0.013', b'-0.798', b'-5.822', b'-6.159',\n",
       "       b'-10.30', b'-10.71', b'-10.21', b'-0.009', b'-0.636', b'-3.467',\n",
       "       b'-10.84', b'-3.841'], dtype='|S6')"
      ]
     },
     "execution_count": 84,
     "metadata": {},
     "output_type": "execute_result"
    }
   ],
   "source": [
    "predictions"
   ]
  },
  {
   "cell_type": "code",
   "execution_count": 80,
   "metadata": {},
   "outputs": [
    {
     "data": {
      "text/plain": [
       "0.004"
      ]
     },
     "execution_count": 80,
     "metadata": {},
     "output_type": "execute_result"
    }
   ],
   "source": [
    "kn.score(x_test,y_test)"
   ]
  },
  {
   "cell_type": "code",
   "execution_count": null,
   "metadata": {},
   "outputs": [],
   "source": []
  }
 ],
 "metadata": {
  "kernelspec": {
   "display_name": "Python 3",
   "language": "python",
   "name": "python3"
  },
  "language_info": {
   "codemirror_mode": {
    "name": "ipython",
    "version": 3
   },
   "file_extension": ".py",
   "mimetype": "text/x-python",
   "name": "python",
   "nbconvert_exporter": "python",
   "pygments_lexer": "ipython3",
   "version": "3.7.4"
  }
 },
 "nbformat": 4,
 "nbformat_minor": 2
}
